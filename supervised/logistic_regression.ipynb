{
 "cells": [
  {
   "cell_type": "code",
   "execution_count": 97,
   "metadata": {},
   "outputs": [],
   "source": [
    "import typing\n",
    "\n",
    "import numpy as np\n",
    "import pandas as pd\n",
    "import matplotlib.pyplot as plt"
   ]
  },
  {
   "cell_type": "code",
   "execution_count": 144,
   "metadata": {},
   "outputs": [],
   "source": [
    "def batch_gradient_ascent(\n",
    "    params: np.ndarray,\n",
    "    X_train: np.ndarray,\n",
    "    y_train: np.ndarray,\n",
    "    hypothesis_func: typing.Callable[[np.ndarray, np.ndarray], np.floating],\n",
    "    *,\n",
    "    learning_rate: float = 0.01,\n",
    "    maxiter: int = 1000\n",
    ") -> np.ndarray:\n",
    "    \"\"\"\n",
    "    Implements Batch Gradient Ascent using the Least Mean Squares cost function.\n",
    "    (Widrow-Hoff learning rule).\n",
    "    \"\"\"\n",
    "\n",
    "    prev = params.copy()\n",
    "    converged = False\n",
    "    iters = 0\n",
    "\n",
    "    while not converged:\n",
    "        # Update rule per feature parameter\n",
    "\n",
    "        # for j, param in enumerate(params):\n",
    "        #     params[j] = param + (learning_rate * (sum(\n",
    "        #         ((y_train[i] - hypothesis_func(params, X_train[i])) * (1 if j==0 else X_train[i][j-1])) for i in range(len(X_train))\n",
    "        #     )))\n",
    "\n",
    "        \n",
    "        # Vector form\n",
    "        params = params + (learning_rate * (sum(\n",
    "            ((y_train[i] - hypothesis_func(params, X_train[i])) * (np.array([1, *X_train[i]]))) for i in range(len(X_train))\n",
    "        )))\n",
    "\n",
    "\n",
    "        if np.array_equal(prev, params):\n",
    "            converged = True\n",
    "            break\n",
    "        else:\n",
    "            prev = params.copy()\n",
    "            iters += 1\n",
    "            if iters == maxiter:\n",
    "                break\n",
    "\n",
    "    return params"
   ]
  },
  {
   "cell_type": "code",
   "execution_count": 135,
   "metadata": {},
   "outputs": [],
   "source": [
    "class LogisticRegression:\n",
    "    def __init__(self, maxiter: int):\n",
    "        self.params = np.array([]) # intentional: empty\n",
    "        self._maxiter = maxiter\n",
    "\n",
    "    def _predict(self, params: np.ndarray, X: np.ndarray) -> np.floating:\n",
    "        # This is also a possibile variation.\n",
    "        # X_new = np.array([1, *X])\n",
    "        # return np.dot(params, X_new)\n",
    "\n",
    "        mul = np.dot(X, params[1:]) + params[0]\n",
    "        return 1 / (1 + np.exp(-mul))\n",
    "    \n",
    "    def predict(self, X: np.ndarray):\n",
    "        return self._predict(self.params, X)\n",
    "\n",
    "    def fit(\n",
    "        self,\n",
    "        X_train: np.ndarray,\n",
    "        y_train: np.ndarray\n",
    "    ):\n",
    "        initial = np.zeros(len(X_train[0]) + 1)\n",
    "        self.params = batch_gradient_ascent(\n",
    "            initial,\n",
    "            X_train,\n",
    "            y_train,\n",
    "            self._predict,\n",
    "            maxiter=self._maxiter\n",
    "        )\n"
   ]
  },
  {
   "cell_type": "code",
   "execution_count": 107,
   "metadata": {},
   "outputs": [],
   "source": [
    "df = pd.read_csv(\"../datasets/score.csv\")\n",
    "X, y = df[[\"Hours\"]].to_numpy(), df[\"Passed\"].to_numpy()"
   ]
  },
  {
   "cell_type": "code",
   "execution_count": 148,
   "metadata": {},
   "outputs": [],
   "source": [
    "model = LogisticRegression(maxiter=100_000)\n",
    "model.fit(X, y)"
   ]
  },
  {
   "cell_type": "code",
   "execution_count": 146,
   "metadata": {},
   "outputs": [
    {
     "data": {
      "image/png": "[encoded data removed]",
      "text/plain": [
       "<Figure size 640x480 with 1 Axes>"
      ]
     },
     "metadata": {},
     "output_type": "display_data"
    }
   ],
   "source": [
    "y_pred = [model.predict(row) for row in X]\n",
    "\n",
    "plt.scatter(X, y)\n",
    "plt.scatter(X, y_pred, color=\"red\")\n",
    "\n",
    "plt.xlabel(\"Hours Studied\")\n",
    "plt.ylabel(\"Probability of passing exam\")\n",
    "plt.title(\"Sigmoidal Logistic Regression\")\n",
    "\n",
    "plt.show()"
   ]
  }
 ],
 "metadata": {
  "kernelspec": {
   "display_name": ".env",
   "language": "python",
   "name": "python3"
  },
  "language_info": {
   "codemirror_mode": {
    "name": "ipython",
    "version": 3
   },
   "file_extension": ".py",
   "mimetype": "text/x-python",
   "name": "python",
   "nbconvert_exporter": "python",
   "pygments_lexer": "ipython3",
   "version": "3.11.1"
  }
 },
 "nbformat": 4,
 "nbformat_minor": 2
}
